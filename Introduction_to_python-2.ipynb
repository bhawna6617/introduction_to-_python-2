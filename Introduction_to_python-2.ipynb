{
 "cells": [
  {
   "cell_type": "markdown",
   "id": "206d39a6",
   "metadata": {},
   "source": [
    "# Types of operator"
   ]
  },
  {
   "cell_type": "code",
   "execution_count": 1,
   "id": "09b0bcef",
   "metadata": {},
   "outputs": [],
   "source": [
    "# An operator is a symbol that performs a certain opertion btw operands\n"
   ]
  },
  {
   "cell_type": "markdown",
   "id": "fc334d75",
   "metadata": {},
   "source": [
    "# 1. Arithmetic operator"
   ]
  },
  {
   "cell_type": "code",
   "execution_count": 6,
   "id": "7028783d",
   "metadata": {},
   "outputs": [
    {
     "name": "stdout",
     "output_type": "stream",
     "text": [
      "7\n",
      "3\n",
      "10\n",
      "2.5\n",
      "1\n",
      "25\n"
     ]
    }
   ],
   "source": [
    "a =5 \n",
    "b =2\n",
    "# c=a+b # add(+)\n",
    "# print(c)\n",
    "print(a+b)# add\n",
    "print(a-b)# sub\n",
    "print(a*b)# multiple\n",
    "print(a/b)# divide\n",
    "print(a % b)# module operator(remainder find out)\n",
    "print(a**b)# power(a^b)"
   ]
  },
  {
   "cell_type": "markdown",
   "id": "bb6131ee",
   "metadata": {},
   "source": [
    "# 2. Relational / Comparison operator"
   ]
  },
  {
   "cell_type": "code",
   "execution_count": 11,
   "id": "dff5e4ac",
   "metadata": {},
   "outputs": [
    {
     "name": "stdout",
     "output_type": "stream",
     "text": [
      "False\n",
      "True\n",
      "True\n",
      "True\n",
      "False\n",
      "False\n"
     ]
    }
   ],
   "source": [
    "# it comapred two value are known as relational operator...\n",
    "\n",
    "a =50\n",
    "b=20\n",
    "print(a==b)# it return boolean valyue(Ture/False)\n",
    "print(a!=b) # it means not equal to b\n",
    "print(a>=b)\n",
    "print(a>b)\n",
    "print(a<=b)\n",
    "print(a<b)"
   ]
  },
  {
   "cell_type": "markdown",
   "id": "6d8a1cc8",
   "metadata": {},
   "source": [
    "# 3. Assignment operator"
   ]
  },
  {
   "cell_type": "code",
   "execution_count": 20,
   "id": "372f9e68",
   "metadata": {},
   "outputs": [
    {
     "name": "stdout",
     "output_type": "stream",
     "text": [
      "a:- 10\n"
     ]
    }
   ],
   "source": [
    "a= 10\n",
    "# a=a+10 # it means 10+10\n",
    "# a+=10\n",
    "# a-=10\n",
    "# a*=10\n",
    "# a/=5\n",
    "# a%=5\n",
    "# a**=5\n",
    "\n",
    "print(\"a:-\",a)"
   ]
  },
  {
   "cell_type": "markdown",
   "id": "e5be6901",
   "metadata": {},
   "source": [
    "# 4. Logical operator (it work boolean value"
   ]
  },
  {
   "cell_type": "code",
   "execution_count": 31,
   "id": "9fc0a5a0",
   "metadata": {},
   "outputs": [
    {
     "name": "stdout",
     "output_type": "stream",
     "text": [
      "True\n"
     ]
    }
   ],
   "source": [
    "# a =50\n",
    "# b=30\n",
    "# print(a>b)\n",
    "# print(not False)\n",
    "# print(not True)\n",
    "\n",
    "# and operator\n",
    "# a=True\n",
    "# b=True #False\n",
    "# print(a and b)\n",
    "\n",
    "# or operator\n",
    "a = True\n",
    "b=False\n",
    "# print(a or b)\n",
    "print((a==b) or(a>b))"
   ]
  },
  {
   "cell_type": "markdown",
   "id": "8c2a3792",
   "metadata": {},
   "source": [
    "# type Conversion"
   ]
  },
  {
   "cell_type": "code",
   "execution_count": 34,
   "id": "d6af5130",
   "metadata": {},
   "outputs": [
    {
     "ename": "TypeError",
     "evalue": "can only concatenate str (not \"float\") to str",
     "output_type": "error",
     "traceback": [
      "\u001b[1;31m---------------------------------------------------------------------------\u001b[0m",
      "\u001b[1;31mTypeError\u001b[0m                                 Traceback (most recent call last)",
      "Cell \u001b[1;32mIn[34], line 13\u001b[0m\n\u001b[0;32m     11\u001b[0m a \u001b[38;5;241m=\u001b[39m\u001b[38;5;124m\"\u001b[39m\u001b[38;5;124m2\u001b[39m\u001b[38;5;124m\"\u001b[39m \u001b[38;5;66;03m# string\u001b[39;00m\n\u001b[0;32m     12\u001b[0m b\u001b[38;5;241m=\u001b[39m \u001b[38;5;241m4.23\u001b[39m\n\u001b[1;32m---> 13\u001b[0m \u001b[38;5;28mprint\u001b[39m(\u001b[43ma\u001b[49m\u001b[38;5;241;43m+\u001b[39;49m\u001b[43mb\u001b[49m)\n",
      "\u001b[1;31mTypeError\u001b[0m: can only concatenate str (not \"float\") to str"
     ]
    }
   ],
   "source": [
    "# it convert int into float like this :- \n",
    "#1.Coversion = automatical\n",
    "#2.casting = manually type convert\n",
    " # 1.\n",
    "# a=2\n",
    "# b=4.25\n",
    "# print(a+b)  # float> int\n",
    "\n",
    "\n",
    "# 2. \n",
    "a =\"2\" # string\n",
    "b= 4.23\n",
    "print(a+b) # not run(because a give string value)"
   ]
  },
  {
   "cell_type": "code",
   "execution_count": 1,
   "id": "cce385ad",
   "metadata": {},
   "outputs": [
    {
     "name": "stdout",
     "output_type": "stream",
     "text": [
      "<class 'int'>\n",
      "6.25\n"
     ]
    }
   ],
   "source": [
    "# 2. type casting\n",
    "# int(value)\n",
    "#float(value)\n",
    "a = int(\"2\")\n",
    "b=4.25\n",
    "print(type(a))\n",
    "print(a+b)"
   ]
  },
  {
   "cell_type": "code",
   "execution_count": 3,
   "id": "e1fc6360",
   "metadata": {},
   "outputs": [
    {
     "name": "stdout",
     "output_type": "stream",
     "text": [
      "<class 'str'>\n"
     ]
    }
   ],
   "source": [
    "a = 3.14\n",
    "a= str(a)\n",
    "print(type(a))"
   ]
  },
  {
   "cell_type": "markdown",
   "id": "6edaf243",
   "metadata": {},
   "source": [
    "# input in python like user input"
   ]
  },
  {
   "cell_type": "code",
   "execution_count": 9,
   "id": "78987372",
   "metadata": {},
   "outputs": [
    {
     "name": "stdout",
     "output_type": "stream",
     "text": [
      "enter name:-nandu sharma\n",
      "nandu sharma\n"
     ]
    }
   ],
   "source": [
    "# input() statement is used to accept values(using keyboard) from user..\n",
    "a=input(\"enter name:-\")\n",
    "print(a)"
   ]
  },
  {
   "cell_type": "code",
   "execution_count": 13,
   "id": "c71a0567",
   "metadata": {},
   "outputs": [
    {
     "name": "stdout",
     "output_type": "stream",
     "text": [
      "enter something:23\n",
      "<class 'int'> 23\n",
      "enter something:23\n",
      "<class 'float'> 23.0\n"
     ]
    }
   ],
   "source": [
    "# input divided into two parts \n",
    "# 1. int\n",
    "# 2. float\n",
    "a =int(input(\"enter something:\"))\n",
    "print(type(a),a)\n",
    "a =float(input(\"enter something:\"))\n",
    "print(type(a),a)"
   ]
  },
  {
   "cell_type": "markdown",
   "id": "03a629db",
   "metadata": {},
   "source": [
    " # program using input"
   ]
  },
  {
   "cell_type": "code",
   "execution_count": 15,
   "id": "5711038a",
   "metadata": {},
   "outputs": [
    {
     "name": "stdout",
     "output_type": "stream",
     "text": [
      "enter your name:-bhawna sharma\n",
      "enter your age:-12\n",
      "enter your marks:-23\n",
      "welcome : bhawna sharma\n",
      "age : 12\n",
      "marks: 23.0\n"
     ]
    }
   ],
   "source": [
    "name = input(\"enter your name:-\")\n",
    "age = int(input(\"enter your age:-\"))\n",
    "marks = float(input(\"enter your marks:-\"))\n",
    "print(\"welcome :\",name)\n",
    "print(\"age :\" ,age)\n",
    "print(\"marks:\",marks)"
   ]
  },
  {
   "cell_type": "markdown",
   "id": "e0002938",
   "metadata": {},
   "source": [
    "# let's Practice"
   ]
  },
  {
   "cell_type": "code",
   "execution_count": 17,
   "id": "d9d4f242",
   "metadata": {},
   "outputs": [
    {
     "name": "stdout",
     "output_type": "stream",
     "text": [
      "enter first number:-3\n",
      "enter second number:-4\n",
      "sum of two number:- 7\n"
     ]
    }
   ],
   "source": [
    "# write a program to input 2 number and print their sum\n",
    "a = int(input(\"enter first number:-\"))\n",
    "b = int(input(\"enter second number:-\"))\n",
    "c=a+b\n",
    "print(\"sum of two number:-\",c)"
   ]
  },
  {
   "cell_type": "code",
   "execution_count": 23,
   "id": "516d3af1",
   "metadata": {},
   "outputs": [
    {
     "name": "stdout",
     "output_type": "stream",
     "text": [
      "enter side : 12\n",
      "area : 144.0\n"
     ]
    }
   ],
   "source": [
    "# write a program to input side of a square and print its area\n",
    "side = float(input(\"enter side : \"))\n",
    "print(\"area :\", side*side)"
   ]
  },
  {
   "cell_type": "code",
   "execution_count": 25,
   "id": "4577d566",
   "metadata": {},
   "outputs": [
    {
     "name": "stdout",
     "output_type": "stream",
     "text": [
      "enter first number :16.5\n",
      "enter second number :3.5\n",
      "average of number : 10.0\n"
     ]
    }
   ],
   "source": [
    "# write a program input 2 floating point number and  print their average\n",
    "a = float(input(\"enter first number :\"))\n",
    "b = float(input(\"enter second number :\"))\n",
    "c =(a+b)/2\n",
    "print(\"average of number :\",c)"
   ]
  },
  {
   "cell_type": "code",
   "execution_count": 28,
   "id": "08bbb29d",
   "metadata": {},
   "outputs": [
    {
     "name": "stdout",
     "output_type": "stream",
     "text": [
      "enter number :3\n",
      "enter numer :5\n",
      "False\n"
     ]
    }
   ],
   "source": [
    "# write a program to input 2 int number , a and b\n",
    "# print True if a is greater than or equal to b. if not  print false..\n",
    "a = int(input(\"enter number :\"))\n",
    "b = int(input(\"enter numer :\"))\n",
    "print(a>=b)"
   ]
  },
  {
   "cell_type": "code",
   "execution_count": null,
   "id": "8df0c8cb",
   "metadata": {},
   "outputs": [],
   "source": []
  }
 ],
 "metadata": {
  "kernelspec": {
   "display_name": "Python 3 (ipykernel)",
   "language": "python",
   "name": "python3"
  },
  "language_info": {
   "codemirror_mode": {
    "name": "ipython",
    "version": 3
   },
   "file_extension": ".py",
   "mimetype": "text/x-python",
   "name": "python",
   "nbconvert_exporter": "python",
   "pygments_lexer": "ipython3",
   "version": "3.11.5"
  }
 },
 "nbformat": 4,
 "nbformat_minor": 5
}
